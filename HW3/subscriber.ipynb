{
 "cells": [
  {
   "cell_type": "code",
   "source": [
    "import paho.mqtt.client as mqtt\n",
    "import json\n",
    "import redis"
   ],
   "metadata": {
    "tags": [],
    "cell_id": "328a843e9df34be3a19d2c1f57f7e750",
    "source_hash": "39765cef",
    "execution_start": 1672250402183,
    "execution_millis": 92,
    "deepnote_to_be_reexecuted": false,
    "deepnote_cell_type": "code"
   },
   "outputs": [],
   "execution_count": 1
  },
  {
   "cell_type": "code",
   "execution_count": 2,
   "outputs": [],
   "source": [
    "CLIENT_ID = 's291462'"
   ],
   "metadata": {
    "collapsed": false
   }
  },
  {
   "cell_type": "code",
   "source": [
    "REDIS_HOST = 'redis-19466.c293.eu-central-1-1.ec2.cloud.redislabs.com'\n",
    "REDIS_PORT = 19466\n",
    "REDIS_USERNAME = 'default'\n",
    "REDIS_PASSWORD = 'iIQjppRdJ7f3kKU4Ng5IDkgv6TvaPnrN'\n",
    "redis_client = redis.Redis(host=REDIS_HOST, port=REDIS_PORT, username=REDIS_USERNAME, password=REDIS_PASSWORD)\n",
    "is_connected = redis_client.ping()\n",
    "print('Redis Connected:', is_connected)"
   ],
   "metadata": {
    "tags": [],
    "cell_id": "0583a4f59dcf400584aaa582219d1695",
    "source_hash": "dbcdd6a2",
    "execution_start": 1672250402326,
    "execution_millis": 236,
    "deepnote_to_be_reexecuted": false,
    "deepnote_cell_type": "code"
   },
   "outputs": [
    {
     "name": "stdout",
     "output_type": "stream",
     "text": [
      "Redis Connected: True\n"
     ]
    }
   ],
   "execution_count": 3
  },
  {
   "cell_type": "code",
   "source": [
    "client = mqtt.Client()\n",
    "def on_connect(client, userdata, flags, rc):\n",
    "    # rc is the result code print to check status\n",
    "    client.subscribe(CLIENT_ID)\n",
    "    print(f'Connected with result code {str(rc)}')"
   ],
   "metadata": {
    "tags": [],
    "cell_id": "c08a9b7afba54d43b9ed33778f742137",
    "source_hash": "966d1ac2",
    "execution_start": 1672250402567,
    "execution_millis": 0,
    "deepnote_to_be_reexecuted": false,
    "deepnote_cell_type": "code"
   },
   "outputs": [],
   "execution_count": 4
  },
  {
   "cell_type": "code",
   "source": [
    "def on_message(client, userdata, msg):\n",
    "    # extracting message from msg byte format to string\n",
    "    message = msg.payload.decode()\n",
    "    topic = msg.topic\n",
    "    # converting json string to dict\n",
    "    str_to_dict = json.loads(message)\n",
    "    mac_address = str_to_dict['mac_address']\n",
    "    battery_level = str_to_dict['battery_level']\n",
    "    power_plugged = int(str_to_dict['power_plugged']) # exercise require to have\n",
    "    timestamp_ms = str_to_dict['timestamp']\n",
    "\n",
    "    # Adding data to redis \n",
    "    mac_battery = mac_address + ':battery'\n",
    "    mac_power = mac_address + ':power'\n",
    "    # Adding time series if does not exists\n",
    "    try:\n",
    "        redis_client.ts().create(mac_battery)\n",
    "        redis_client.ts().create(mac_power)\n",
    "    except redis.ResponseError:\n",
    "        pass\n",
    "    redis_client.ts().add(mac_battery, timestamp_ms, battery_level)\n",
    "    redis_client.ts().add(mac_power, timestamp_ms, power_plugged)\n",
    "    print(f\"Received message '{message}' on topic {topic}\")"
   ],
   "metadata": {
    "tags": [],
    "cell_id": "deed0ae2f7774a43833f4938e0f1fa8d",
    "source_hash": "1958ee57",
    "execution_start": 1672250402571,
    "execution_millis": 3,
    "deepnote_to_be_reexecuted": false,
    "deepnote_cell_type": "code"
   },
   "outputs": [],
   "execution_count": 5
  },
  {
   "cell_type": "code",
   "source": [
    "# Set the callbacks\n",
    "client.on_connect = on_connect\n",
    "client.on_message = on_message\n",
    "client.connect('mqtt.eclipseprojects.io', 1883)\n",
    "client.loop_forever()"
   ],
   "metadata": {
    "tags": [],
    "cell_id": "da940be14a5f4ec09597f1b37c250182",
    "source_hash": "3c99b8d6",
    "execution_start": 1672250402577,
    "execution_millis": 13308,
    "deepnote_to_be_reexecuted": false,
    "deepnote_cell_type": "code"
   },
   "outputs": [
    {
     "name": "stdout",
     "output_type": "stream",
     "text": [
      "Connected with result code 0\n",
      "Received message '{\"mac_address\": \"0xacde48001122\", \"timestamp\": 1674492254623, \"battery_level\": 67, \"power_plugged\": false}' on topic s291462\n",
      "Received message '{\"mac_address\": \"0xacde48001122\", \"timestamp\": 1674492255628, \"battery_level\": 67, \"power_plugged\": false}' on topic s291462\n",
      "Received message '{\"mac_address\": \"0xacde48001122\", \"timestamp\": 1674492256635, \"battery_level\": 67, \"power_plugged\": false}' on topic s291462\n",
      "Received message '{\"mac_address\": \"0xacde48001122\", \"timestamp\": 1674492257638, \"battery_level\": 67, \"power_plugged\": false}' on topic s291462\n",
      "Received message '{\"mac_address\": \"0xacde48001122\", \"timestamp\": 1674492258642, \"battery_level\": 67, \"power_plugged\": false}' on topic s291462\n",
      "Received message '{\"mac_address\": \"0xacde48001122\", \"timestamp\": 1674492259646, \"battery_level\": 67, \"power_plugged\": false}' on topic s291462\n",
      "Received message '{\"mac_address\": \"0xacde48001122\", \"timestamp\": 1674492260648, \"battery_level\": 67, \"power_plugged\": false}' on topic s291462\n",
      "Received message '{\"mac_address\": \"0xacde48001122\", \"timestamp\": 1674492261652, \"battery_level\": 67, \"power_plugged\": false}' on topic s291462\n",
      "Received message '{\"mac_address\": \"0xacde48001122\", \"timestamp\": 1674492262655, \"battery_level\": 67, \"power_plugged\": false}' on topic s291462\n",
      "Received message '{\"mac_address\": \"0xacde48001122\", \"timestamp\": 1674492263660, \"battery_level\": 67, \"power_plugged\": false}' on topic s291462\n",
      "Received message '{\"mac_address\": \"0xacde48001122\", \"timestamp\": 1674492264664, \"battery_level\": 67, \"power_plugged\": false}' on topic s291462\n",
      "Received message '{\"mac_address\": \"0xacde48001122\", \"timestamp\": 1674492265668, \"battery_level\": 67, \"power_plugged\": false}' on topic s291462\n",
      "Received message '{\"mac_address\": \"0xacde48001122\", \"timestamp\": 1674492266673, \"battery_level\": 67, \"power_plugged\": false}' on topic s291462\n",
      "Received message '{\"mac_address\": \"0xacde48001122\", \"timestamp\": 1674492267675, \"battery_level\": 67, \"power_plugged\": false}' on topic s291462\n",
      "Received message '{\"mac_address\": \"0xacde48001122\", \"timestamp\": 1674492268680, \"battery_level\": 67, \"power_plugged\": false}' on topic s291462\n",
      "Received message '{\"mac_address\": \"0xacde48001122\", \"timestamp\": 1674492269682, \"battery_level\": 67, \"power_plugged\": false}' on topic s291462\n",
      "Received message '{\"mac_address\": \"0xacde48001122\", \"timestamp\": 1674492270688, \"battery_level\": 67, \"power_plugged\": false}' on topic s291462\n",
      "Received message '{\"mac_address\": \"0xacde48001122\", \"timestamp\": 1674492271693, \"battery_level\": 67, \"power_plugged\": false}' on topic s291462\n",
      "Received message '{\"mac_address\": \"0xacde48001122\", \"timestamp\": 1674492272697, \"battery_level\": 67, \"power_plugged\": false}' on topic s291462\n",
      "Received message '{\"mac_address\": \"0xacde48001122\", \"timestamp\": 1674492273698, \"battery_level\": 67, \"power_plugged\": false}' on topic s291462\n",
      "Received message '{\"mac_address\": \"0xacde48001122\", \"timestamp\": 1674492274704, \"battery_level\": 67, \"power_plugged\": false}' on topic s291462\n",
      "Received message '{\"mac_address\": \"0xacde48001122\", \"timestamp\": 1674492275708, \"battery_level\": 67, \"power_plugged\": false}' on topic s291462\n",
      "Received message '{\"mac_address\": \"0xacde48001122\", \"timestamp\": 1674492276713, \"battery_level\": 67, \"power_plugged\": false}' on topic s291462\n",
      "Received message '{\"mac_address\": \"0xacde48001122\", \"timestamp\": 1674492277716, \"battery_level\": 67, \"power_plugged\": false}' on topic s291462\n",
      "Received message '{\"mac_address\": \"0xacde48001122\", \"timestamp\": 1674492278717, \"battery_level\": 67, \"power_plugged\": false}' on topic s291462\n",
      "Received message '{\"mac_address\": \"0xacde48001122\", \"timestamp\": 1674492279723, \"battery_level\": 67, \"power_plugged\": false}' on topic s291462\n",
      "Received message '{\"mac_address\": \"0xacde48001122\", \"timestamp\": 1674492280726, \"battery_level\": 67, \"power_plugged\": false}' on topic s291462\n",
      "Received message '{\"mac_address\": \"0xacde48001122\", \"timestamp\": 1674492281730, \"battery_level\": 67, \"power_plugged\": false}' on topic s291462\n",
      "Received message '{\"mac_address\": \"0xacde48001122\", \"timestamp\": 1674492282734, \"battery_level\": 67, \"power_plugged\": false}' on topic s291462\n",
      "Received message '{\"mac_address\": \"0xacde48001122\", \"timestamp\": 1674492283738, \"battery_level\": 67, \"power_plugged\": false}' on topic s291462\n",
      "Received message '{\"mac_address\": \"0xacde48001122\", \"timestamp\": 1674492284740, \"battery_level\": 67, \"power_plugged\": false}' on topic s291462\n",
      "Received message '{\"mac_address\": \"0xacde48001122\", \"timestamp\": 1674492285746, \"battery_level\": 67, \"power_plugged\": false}' on topic s291462\n",
      "Received message '{\"mac_address\": \"0xacde48001122\", \"timestamp\": 1674492286751, \"battery_level\": 67, \"power_plugged\": false}' on topic s291462\n",
      "Received message '{\"mac_address\": \"0xacde48001122\", \"timestamp\": 1674492287756, \"battery_level\": 67, \"power_plugged\": false}' on topic s291462\n",
      "Received message '{\"mac_address\": \"0xacde48001122\", \"timestamp\": 1674492288761, \"battery_level\": 67, \"power_plugged\": false}' on topic s291462\n",
      "Received message '{\"mac_address\": \"0xacde48001122\", \"timestamp\": 1674492289764, \"battery_level\": 67, \"power_plugged\": false}' on topic s291462\n",
      "Received message '{\"mac_address\": \"0xacde48001122\", \"timestamp\": 1674492290767, \"battery_level\": 67, \"power_plugged\": false}' on topic s291462\n",
      "Received message '{\"mac_address\": \"0xacde48001122\", \"timestamp\": 1674492291772, \"battery_level\": 67, \"power_plugged\": false}' on topic s291462\n",
      "Received message '{\"mac_address\": \"0xacde48001122\", \"timestamp\": 1674492292776, \"battery_level\": 67, \"power_plugged\": false}' on topic s291462\n",
      "Received message '{\"mac_address\": \"0xacde48001122\", \"timestamp\": 1674492293780, \"battery_level\": 67, \"power_plugged\": false}' on topic s291462\n",
      "Received message '{\"mac_address\": \"0xacde48001122\", \"timestamp\": 1674492294783, \"battery_level\": 67, \"power_plugged\": false}' on topic s291462\n",
      "Received message '{\"mac_address\": \"0xacde48001122\", \"timestamp\": 1674492295788, \"battery_level\": 67, \"power_plugged\": false}' on topic s291462\n",
      "Received message '{\"mac_address\": \"0xacde48001122\", \"timestamp\": 1674492296790, \"battery_level\": 67, \"power_plugged\": false}' on topic s291462\n",
      "Received message '{\"mac_address\": \"0xacde48001122\", \"timestamp\": 1674492297792, \"battery_level\": 67, \"power_plugged\": false}' on topic s291462\n",
      "Received message '{\"mac_address\": \"0xacde48001122\", \"timestamp\": 1674492298797, \"battery_level\": 67, \"power_plugged\": false}' on topic s291462\n",
      "Received message '{\"mac_address\": \"0xacde48001122\", \"timestamp\": 1674492299798, \"battery_level\": 67, \"power_plugged\": false}' on topic s291462\n",
      "Received message '{\"mac_address\": \"0xacde48001122\", \"timestamp\": 1674492300803, \"battery_level\": 67, \"power_plugged\": false}' on topic s291462\n",
      "Received message '{\"mac_address\": \"0xacde48001122\", \"timestamp\": 1674492301806, \"battery_level\": 67, \"power_plugged\": false}' on topic s291462\n",
      "Received message '{\"mac_address\": \"0xacde48001122\", \"timestamp\": 1674492302809, \"battery_level\": 67, \"power_plugged\": false}' on topic s291462\n"
     ]
    },
    {
     "ename": "KeyboardInterrupt",
     "evalue": "",
     "output_type": "error",
     "traceback": [
      "\u001B[0;31m---------------------------------------------------------------------------\u001B[0m",
      "\u001B[0;31mKeyboardInterrupt\u001B[0m                         Traceback (most recent call last)",
      "Cell \u001B[0;32mIn [6], line 5\u001B[0m\n\u001B[1;32m      3\u001B[0m client\u001B[38;5;241m.\u001B[39mon_message \u001B[38;5;241m=\u001B[39m on_message\n\u001B[1;32m      4\u001B[0m client\u001B[38;5;241m.\u001B[39mconnect(\u001B[38;5;124m'\u001B[39m\u001B[38;5;124mmqtt.eclipseprojects.io\u001B[39m\u001B[38;5;124m'\u001B[39m, \u001B[38;5;241m1883\u001B[39m)\n\u001B[0;32m----> 5\u001B[0m \u001B[43mclient\u001B[49m\u001B[38;5;241;43m.\u001B[39;49m\u001B[43mloop_forever\u001B[49m\u001B[43m(\u001B[49m\u001B[43m)\u001B[49m\n",
      "File \u001B[0;32m~/ml4iot/py310/lib/python3.10/site-packages/paho/mqtt/client.py:1756\u001B[0m, in \u001B[0;36mClient.loop_forever\u001B[0;34m(self, timeout, max_packets, retry_first_connection)\u001B[0m\n\u001B[1;32m   1754\u001B[0m rc \u001B[38;5;241m=\u001B[39m MQTT_ERR_SUCCESS\n\u001B[1;32m   1755\u001B[0m \u001B[38;5;28;01mwhile\u001B[39;00m rc \u001B[38;5;241m==\u001B[39m MQTT_ERR_SUCCESS:\n\u001B[0;32m-> 1756\u001B[0m     rc \u001B[38;5;241m=\u001B[39m \u001B[38;5;28;43mself\u001B[39;49m\u001B[38;5;241;43m.\u001B[39;49m\u001B[43m_loop\u001B[49m\u001B[43m(\u001B[49m\u001B[43mtimeout\u001B[49m\u001B[43m)\u001B[49m\n\u001B[1;32m   1757\u001B[0m     \u001B[38;5;66;03m# We don't need to worry about locking here, because we've\u001B[39;00m\n\u001B[1;32m   1758\u001B[0m     \u001B[38;5;66;03m# either called loop_forever() when in single threaded mode, or\u001B[39;00m\n\u001B[1;32m   1759\u001B[0m     \u001B[38;5;66;03m# in multi threaded mode when loop_stop() has been called and\u001B[39;00m\n\u001B[1;32m   1760\u001B[0m     \u001B[38;5;66;03m# so no other threads can access _out_packet or _messages.\u001B[39;00m\n\u001B[1;32m   1761\u001B[0m     \u001B[38;5;28;01mif\u001B[39;00m (\u001B[38;5;28mself\u001B[39m\u001B[38;5;241m.\u001B[39m_thread_terminate \u001B[38;5;129;01mis\u001B[39;00m \u001B[38;5;28;01mTrue\u001B[39;00m\n\u001B[1;32m   1762\u001B[0m         \u001B[38;5;129;01mand\u001B[39;00m \u001B[38;5;28mlen\u001B[39m(\u001B[38;5;28mself\u001B[39m\u001B[38;5;241m.\u001B[39m_out_packet) \u001B[38;5;241m==\u001B[39m \u001B[38;5;241m0\u001B[39m\n\u001B[1;32m   1763\u001B[0m             \u001B[38;5;129;01mand\u001B[39;00m \u001B[38;5;28mlen\u001B[39m(\u001B[38;5;28mself\u001B[39m\u001B[38;5;241m.\u001B[39m_out_messages) \u001B[38;5;241m==\u001B[39m \u001B[38;5;241m0\u001B[39m):\n",
      "File \u001B[0;32m~/ml4iot/py310/lib/python3.10/site-packages/paho/mqtt/client.py:1164\u001B[0m, in \u001B[0;36mClient._loop\u001B[0;34m(self, timeout)\u001B[0m\n\u001B[1;32m   1161\u001B[0m     \u001B[38;5;28;01mreturn\u001B[39;00m MQTT_ERR_UNKNOWN\n\u001B[1;32m   1163\u001B[0m \u001B[38;5;28;01mif\u001B[39;00m \u001B[38;5;28mself\u001B[39m\u001B[38;5;241m.\u001B[39m_sock \u001B[38;5;129;01min\u001B[39;00m socklist[\u001B[38;5;241m0\u001B[39m] \u001B[38;5;129;01mor\u001B[39;00m pending_bytes \u001B[38;5;241m>\u001B[39m \u001B[38;5;241m0\u001B[39m:\n\u001B[0;32m-> 1164\u001B[0m     rc \u001B[38;5;241m=\u001B[39m \u001B[38;5;28;43mself\u001B[39;49m\u001B[38;5;241;43m.\u001B[39;49m\u001B[43mloop_read\u001B[49m\u001B[43m(\u001B[49m\u001B[43m)\u001B[49m\n\u001B[1;32m   1165\u001B[0m     \u001B[38;5;28;01mif\u001B[39;00m rc \u001B[38;5;129;01mor\u001B[39;00m \u001B[38;5;28mself\u001B[39m\u001B[38;5;241m.\u001B[39m_sock \u001B[38;5;129;01mis\u001B[39;00m \u001B[38;5;28;01mNone\u001B[39;00m:\n\u001B[1;32m   1166\u001B[0m         \u001B[38;5;28;01mreturn\u001B[39;00m rc\n",
      "File \u001B[0;32m~/ml4iot/py310/lib/python3.10/site-packages/paho/mqtt/client.py:1556\u001B[0m, in \u001B[0;36mClient.loop_read\u001B[0;34m(self, max_packets)\u001B[0m\n\u001B[1;32m   1554\u001B[0m \u001B[38;5;28;01mif\u001B[39;00m \u001B[38;5;28mself\u001B[39m\u001B[38;5;241m.\u001B[39m_sock \u001B[38;5;129;01mis\u001B[39;00m \u001B[38;5;28;01mNone\u001B[39;00m:\n\u001B[1;32m   1555\u001B[0m     \u001B[38;5;28;01mreturn\u001B[39;00m MQTT_ERR_NO_CONN\n\u001B[0;32m-> 1556\u001B[0m rc \u001B[38;5;241m=\u001B[39m \u001B[38;5;28;43mself\u001B[39;49m\u001B[38;5;241;43m.\u001B[39;49m\u001B[43m_packet_read\u001B[49m\u001B[43m(\u001B[49m\u001B[43m)\u001B[49m\n\u001B[1;32m   1557\u001B[0m \u001B[38;5;28;01mif\u001B[39;00m rc \u001B[38;5;241m>\u001B[39m \u001B[38;5;241m0\u001B[39m:\n\u001B[1;32m   1558\u001B[0m     \u001B[38;5;28;01mreturn\u001B[39;00m \u001B[38;5;28mself\u001B[39m\u001B[38;5;241m.\u001B[39m_loop_rc_handle(rc)\n",
      "File \u001B[0;32m~/ml4iot/py310/lib/python3.10/site-packages/paho/mqtt/client.py:2439\u001B[0m, in \u001B[0;36mClient._packet_read\u001B[0;34m(self)\u001B[0m\n\u001B[1;32m   2437\u001B[0m \u001B[38;5;66;03m# All data for this packet is read.\u001B[39;00m\n\u001B[1;32m   2438\u001B[0m \u001B[38;5;28mself\u001B[39m\u001B[38;5;241m.\u001B[39m_in_packet[\u001B[38;5;124m'\u001B[39m\u001B[38;5;124mpos\u001B[39m\u001B[38;5;124m'\u001B[39m] \u001B[38;5;241m=\u001B[39m \u001B[38;5;241m0\u001B[39m\n\u001B[0;32m-> 2439\u001B[0m rc \u001B[38;5;241m=\u001B[39m \u001B[38;5;28;43mself\u001B[39;49m\u001B[38;5;241;43m.\u001B[39;49m\u001B[43m_packet_handle\u001B[49m\u001B[43m(\u001B[49m\u001B[43m)\u001B[49m\n\u001B[1;32m   2441\u001B[0m \u001B[38;5;66;03m# Free data and reset values\u001B[39;00m\n\u001B[1;32m   2442\u001B[0m \u001B[38;5;28mself\u001B[39m\u001B[38;5;241m.\u001B[39m_in_packet \u001B[38;5;241m=\u001B[39m {\n\u001B[1;32m   2443\u001B[0m     \u001B[38;5;124m'\u001B[39m\u001B[38;5;124mcommand\u001B[39m\u001B[38;5;124m'\u001B[39m: \u001B[38;5;241m0\u001B[39m,\n\u001B[1;32m   2444\u001B[0m     \u001B[38;5;124m'\u001B[39m\u001B[38;5;124mhave_remaining\u001B[39m\u001B[38;5;124m'\u001B[39m: \u001B[38;5;241m0\u001B[39m,\n\u001B[0;32m   (...)\u001B[0m\n\u001B[1;32m   2449\u001B[0m     \u001B[38;5;124m'\u001B[39m\u001B[38;5;124mto_process\u001B[39m\u001B[38;5;124m'\u001B[39m: \u001B[38;5;241m0\u001B[39m,\n\u001B[1;32m   2450\u001B[0m     \u001B[38;5;124m'\u001B[39m\u001B[38;5;124mpos\u001B[39m\u001B[38;5;124m'\u001B[39m: \u001B[38;5;241m0\u001B[39m}\n",
      "File \u001B[0;32m~/ml4iot/py310/lib/python3.10/site-packages/paho/mqtt/client.py:3033\u001B[0m, in \u001B[0;36mClient._packet_handle\u001B[0;34m(self)\u001B[0m\n\u001B[1;32m   3031\u001B[0m     \u001B[38;5;28;01mreturn\u001B[39;00m \u001B[38;5;28mself\u001B[39m\u001B[38;5;241m.\u001B[39m_handle_pubackcomp(\u001B[38;5;124m\"\u001B[39m\u001B[38;5;124mPUBCOMP\u001B[39m\u001B[38;5;124m\"\u001B[39m)\n\u001B[1;32m   3032\u001B[0m \u001B[38;5;28;01melif\u001B[39;00m cmd \u001B[38;5;241m==\u001B[39m PUBLISH:\n\u001B[0;32m-> 3033\u001B[0m     \u001B[38;5;28;01mreturn\u001B[39;00m \u001B[38;5;28;43mself\u001B[39;49m\u001B[38;5;241;43m.\u001B[39;49m\u001B[43m_handle_publish\u001B[49m\u001B[43m(\u001B[49m\u001B[43m)\u001B[49m\n\u001B[1;32m   3034\u001B[0m \u001B[38;5;28;01melif\u001B[39;00m cmd \u001B[38;5;241m==\u001B[39m PUBREC:\n\u001B[1;32m   3035\u001B[0m     \u001B[38;5;28;01mreturn\u001B[39;00m \u001B[38;5;28mself\u001B[39m\u001B[38;5;241m.\u001B[39m_handle_pubrec()\n",
      "File \u001B[0;32m~/ml4iot/py310/lib/python3.10/site-packages/paho/mqtt/client.py:3327\u001B[0m, in \u001B[0;36mClient._handle_publish\u001B[0;34m(self)\u001B[0m\n\u001B[1;32m   3325\u001B[0m message\u001B[38;5;241m.\u001B[39mtimestamp \u001B[38;5;241m=\u001B[39m time_func()\n\u001B[1;32m   3326\u001B[0m \u001B[38;5;28;01mif\u001B[39;00m message\u001B[38;5;241m.\u001B[39mqos \u001B[38;5;241m==\u001B[39m \u001B[38;5;241m0\u001B[39m:\n\u001B[0;32m-> 3327\u001B[0m     \u001B[38;5;28;43mself\u001B[39;49m\u001B[38;5;241;43m.\u001B[39;49m\u001B[43m_handle_on_message\u001B[49m\u001B[43m(\u001B[49m\u001B[43mmessage\u001B[49m\u001B[43m)\u001B[49m\n\u001B[1;32m   3328\u001B[0m     \u001B[38;5;28;01mreturn\u001B[39;00m MQTT_ERR_SUCCESS\n\u001B[1;32m   3329\u001B[0m \u001B[38;5;28;01melif\u001B[39;00m message\u001B[38;5;241m.\u001B[39mqos \u001B[38;5;241m==\u001B[39m \u001B[38;5;241m1\u001B[39m:\n",
      "File \u001B[0;32m~/ml4iot/py310/lib/python3.10/site-packages/paho/mqtt/client.py:3570\u001B[0m, in \u001B[0;36mClient._handle_on_message\u001B[0;34m(self, message)\u001B[0m\n\u001B[1;32m   3568\u001B[0m \u001B[38;5;28;01mwith\u001B[39;00m \u001B[38;5;28mself\u001B[39m\u001B[38;5;241m.\u001B[39m_in_callback_mutex:\n\u001B[1;32m   3569\u001B[0m     \u001B[38;5;28;01mtry\u001B[39;00m:\n\u001B[0;32m-> 3570\u001B[0m         \u001B[43mon_message\u001B[49m\u001B[43m(\u001B[49m\u001B[38;5;28;43mself\u001B[39;49m\u001B[43m,\u001B[49m\u001B[43m \u001B[49m\u001B[38;5;28;43mself\u001B[39;49m\u001B[38;5;241;43m.\u001B[39;49m\u001B[43m_userdata\u001B[49m\u001B[43m,\u001B[49m\u001B[43m \u001B[49m\u001B[43mmessage\u001B[49m\u001B[43m)\u001B[49m\n\u001B[1;32m   3571\u001B[0m     \u001B[38;5;28;01mexcept\u001B[39;00m \u001B[38;5;167;01mException\u001B[39;00m \u001B[38;5;28;01mas\u001B[39;00m err:\n\u001B[1;32m   3572\u001B[0m         \u001B[38;5;28mself\u001B[39m\u001B[38;5;241m.\u001B[39m_easy_log(\n\u001B[1;32m   3573\u001B[0m             MQTT_LOG_ERR, \u001B[38;5;124m'\u001B[39m\u001B[38;5;124mCaught exception in on_message: \u001B[39m\u001B[38;5;132;01m%s\u001B[39;00m\u001B[38;5;124m'\u001B[39m, err)\n",
      "Cell \u001B[0;32mIn [5], line 21\u001B[0m, in \u001B[0;36mon_message\u001B[0;34m(client, userdata, msg)\u001B[0m\n\u001B[1;32m     19\u001B[0m \u001B[38;5;28;01mexcept\u001B[39;00m redis\u001B[38;5;241m.\u001B[39mResponseError:\n\u001B[1;32m     20\u001B[0m     \u001B[38;5;28;01mpass\u001B[39;00m\n\u001B[0;32m---> 21\u001B[0m \u001B[43mredis_client\u001B[49m\u001B[38;5;241;43m.\u001B[39;49m\u001B[43mts\u001B[49m\u001B[43m(\u001B[49m\u001B[43m)\u001B[49m\u001B[38;5;241;43m.\u001B[39;49m\u001B[43madd\u001B[49m\u001B[43m(\u001B[49m\u001B[43mmac_battery\u001B[49m\u001B[43m,\u001B[49m\u001B[43m \u001B[49m\u001B[43mtimestamp_ms\u001B[49m\u001B[43m,\u001B[49m\u001B[43m \u001B[49m\u001B[43mbattery_level\u001B[49m\u001B[43m)\u001B[49m\n\u001B[1;32m     22\u001B[0m redis_client\u001B[38;5;241m.\u001B[39mts()\u001B[38;5;241m.\u001B[39madd(mac_power, timestamp_ms, power_plugged)\n\u001B[1;32m     23\u001B[0m \u001B[38;5;28mprint\u001B[39m(\u001B[38;5;124mf\u001B[39m\u001B[38;5;124m\"\u001B[39m\u001B[38;5;124mReceived message \u001B[39m\u001B[38;5;124m'\u001B[39m\u001B[38;5;132;01m{\u001B[39;00mmessage\u001B[38;5;132;01m}\u001B[39;00m\u001B[38;5;124m'\u001B[39m\u001B[38;5;124m on topic \u001B[39m\u001B[38;5;132;01m{\u001B[39;00mtopic\u001B[38;5;132;01m}\u001B[39;00m\u001B[38;5;124m\"\u001B[39m)\n",
      "File \u001B[0;32m~/ml4iot/py310/lib/python3.10/site-packages/redis/commands/timeseries/commands.py:146\u001B[0m, in \u001B[0;36mTimeSeriesCommands.add\u001B[0;34m(self, key, timestamp, value, **kwargs)\u001B[0m\n\u001B[1;32m    143\u001B[0m \u001B[38;5;28mself\u001B[39m\u001B[38;5;241m.\u001B[39m_append_duplicate_policy(params, ADD_CMD, duplicate_policy)\n\u001B[1;32m    144\u001B[0m \u001B[38;5;28mself\u001B[39m\u001B[38;5;241m.\u001B[39m_append_labels(params, labels)\n\u001B[0;32m--> 146\u001B[0m \u001B[38;5;28;01mreturn\u001B[39;00m \u001B[38;5;28;43mself\u001B[39;49m\u001B[38;5;241;43m.\u001B[39;49m\u001B[43mexecute_command\u001B[49m\u001B[43m(\u001B[49m\u001B[43mADD_CMD\u001B[49m\u001B[43m,\u001B[49m\u001B[43m \u001B[49m\u001B[38;5;241;43m*\u001B[39;49m\u001B[43mparams\u001B[49m\u001B[43m)\u001B[49m\n",
      "File \u001B[0;32m~/ml4iot/py310/lib/python3.10/site-packages/redis/client.py:1238\u001B[0m, in \u001B[0;36mRedis.execute_command\u001B[0;34m(self, *args, **options)\u001B[0m\n\u001B[1;32m   1235\u001B[0m conn \u001B[38;5;241m=\u001B[39m \u001B[38;5;28mself\u001B[39m\u001B[38;5;241m.\u001B[39mconnection \u001B[38;5;129;01mor\u001B[39;00m pool\u001B[38;5;241m.\u001B[39mget_connection(command_name, \u001B[38;5;241m*\u001B[39m\u001B[38;5;241m*\u001B[39moptions)\n\u001B[1;32m   1237\u001B[0m \u001B[38;5;28;01mtry\u001B[39;00m:\n\u001B[0;32m-> 1238\u001B[0m     \u001B[38;5;28;01mreturn\u001B[39;00m \u001B[43mconn\u001B[49m\u001B[38;5;241;43m.\u001B[39;49m\u001B[43mretry\u001B[49m\u001B[38;5;241;43m.\u001B[39;49m\u001B[43mcall_with_retry\u001B[49m\u001B[43m(\u001B[49m\n\u001B[1;32m   1239\u001B[0m \u001B[43m        \u001B[49m\u001B[38;5;28;43;01mlambda\u001B[39;49;00m\u001B[43m:\u001B[49m\u001B[43m \u001B[49m\u001B[38;5;28;43mself\u001B[39;49m\u001B[38;5;241;43m.\u001B[39;49m\u001B[43m_send_command_parse_response\u001B[49m\u001B[43m(\u001B[49m\n\u001B[1;32m   1240\u001B[0m \u001B[43m            \u001B[49m\u001B[43mconn\u001B[49m\u001B[43m,\u001B[49m\u001B[43m \u001B[49m\u001B[43mcommand_name\u001B[49m\u001B[43m,\u001B[49m\u001B[43m \u001B[49m\u001B[38;5;241;43m*\u001B[39;49m\u001B[43margs\u001B[49m\u001B[43m,\u001B[49m\u001B[43m \u001B[49m\u001B[38;5;241;43m*\u001B[39;49m\u001B[38;5;241;43m*\u001B[39;49m\u001B[43moptions\u001B[49m\n\u001B[1;32m   1241\u001B[0m \u001B[43m        \u001B[49m\u001B[43m)\u001B[49m\u001B[43m,\u001B[49m\n\u001B[1;32m   1242\u001B[0m \u001B[43m        \u001B[49m\u001B[38;5;28;43;01mlambda\u001B[39;49;00m\u001B[43m \u001B[49m\u001B[43merror\u001B[49m\u001B[43m:\u001B[49m\u001B[43m \u001B[49m\u001B[38;5;28;43mself\u001B[39;49m\u001B[38;5;241;43m.\u001B[39;49m\u001B[43m_disconnect_raise\u001B[49m\u001B[43m(\u001B[49m\u001B[43mconn\u001B[49m\u001B[43m,\u001B[49m\u001B[43m \u001B[49m\u001B[43merror\u001B[49m\u001B[43m)\u001B[49m\u001B[43m,\u001B[49m\n\u001B[1;32m   1243\u001B[0m \u001B[43m    \u001B[49m\u001B[43m)\u001B[49m\n\u001B[1;32m   1244\u001B[0m \u001B[38;5;28;01mfinally\u001B[39;00m:\n\u001B[1;32m   1245\u001B[0m     \u001B[38;5;28;01mif\u001B[39;00m \u001B[38;5;129;01mnot\u001B[39;00m \u001B[38;5;28mself\u001B[39m\u001B[38;5;241m.\u001B[39mconnection:\n",
      "File \u001B[0;32m~/ml4iot/py310/lib/python3.10/site-packages/redis/retry.py:46\u001B[0m, in \u001B[0;36mRetry.call_with_retry\u001B[0;34m(self, do, fail)\u001B[0m\n\u001B[1;32m     44\u001B[0m \u001B[38;5;28;01mwhile\u001B[39;00m \u001B[38;5;28;01mTrue\u001B[39;00m:\n\u001B[1;32m     45\u001B[0m     \u001B[38;5;28;01mtry\u001B[39;00m:\n\u001B[0;32m---> 46\u001B[0m         \u001B[38;5;28;01mreturn\u001B[39;00m \u001B[43mdo\u001B[49m\u001B[43m(\u001B[49m\u001B[43m)\u001B[49m\n\u001B[1;32m     47\u001B[0m     \u001B[38;5;28;01mexcept\u001B[39;00m \u001B[38;5;28mself\u001B[39m\u001B[38;5;241m.\u001B[39m_supported_errors \u001B[38;5;28;01mas\u001B[39;00m error:\n\u001B[1;32m     48\u001B[0m         failures \u001B[38;5;241m+\u001B[39m\u001B[38;5;241m=\u001B[39m \u001B[38;5;241m1\u001B[39m\n",
      "File \u001B[0;32m~/ml4iot/py310/lib/python3.10/site-packages/redis/client.py:1239\u001B[0m, in \u001B[0;36mRedis.execute_command.<locals>.<lambda>\u001B[0;34m()\u001B[0m\n\u001B[1;32m   1235\u001B[0m conn \u001B[38;5;241m=\u001B[39m \u001B[38;5;28mself\u001B[39m\u001B[38;5;241m.\u001B[39mconnection \u001B[38;5;129;01mor\u001B[39;00m pool\u001B[38;5;241m.\u001B[39mget_connection(command_name, \u001B[38;5;241m*\u001B[39m\u001B[38;5;241m*\u001B[39moptions)\n\u001B[1;32m   1237\u001B[0m \u001B[38;5;28;01mtry\u001B[39;00m:\n\u001B[1;32m   1238\u001B[0m     \u001B[38;5;28;01mreturn\u001B[39;00m conn\u001B[38;5;241m.\u001B[39mretry\u001B[38;5;241m.\u001B[39mcall_with_retry(\n\u001B[0;32m-> 1239\u001B[0m         \u001B[38;5;28;01mlambda\u001B[39;00m: \u001B[38;5;28;43mself\u001B[39;49m\u001B[38;5;241;43m.\u001B[39;49m\u001B[43m_send_command_parse_response\u001B[49m\u001B[43m(\u001B[49m\n\u001B[1;32m   1240\u001B[0m \u001B[43m            \u001B[49m\u001B[43mconn\u001B[49m\u001B[43m,\u001B[49m\u001B[43m \u001B[49m\u001B[43mcommand_name\u001B[49m\u001B[43m,\u001B[49m\u001B[43m \u001B[49m\u001B[38;5;241;43m*\u001B[39;49m\u001B[43margs\u001B[49m\u001B[43m,\u001B[49m\u001B[43m \u001B[49m\u001B[38;5;241;43m*\u001B[39;49m\u001B[38;5;241;43m*\u001B[39;49m\u001B[43moptions\u001B[49m\n\u001B[1;32m   1241\u001B[0m \u001B[43m        \u001B[49m\u001B[43m)\u001B[49m,\n\u001B[1;32m   1242\u001B[0m         \u001B[38;5;28;01mlambda\u001B[39;00m error: \u001B[38;5;28mself\u001B[39m\u001B[38;5;241m.\u001B[39m_disconnect_raise(conn, error),\n\u001B[1;32m   1243\u001B[0m     )\n\u001B[1;32m   1244\u001B[0m \u001B[38;5;28;01mfinally\u001B[39;00m:\n\u001B[1;32m   1245\u001B[0m     \u001B[38;5;28;01mif\u001B[39;00m \u001B[38;5;129;01mnot\u001B[39;00m \u001B[38;5;28mself\u001B[39m\u001B[38;5;241m.\u001B[39mconnection:\n",
      "File \u001B[0;32m~/ml4iot/py310/lib/python3.10/site-packages/redis/client.py:1215\u001B[0m, in \u001B[0;36mRedis._send_command_parse_response\u001B[0;34m(self, conn, command_name, *args, **options)\u001B[0m\n\u001B[1;32m   1211\u001B[0m \u001B[38;5;124;03m\"\"\"\u001B[39;00m\n\u001B[1;32m   1212\u001B[0m \u001B[38;5;124;03mSend a command and parse the response\u001B[39;00m\n\u001B[1;32m   1213\u001B[0m \u001B[38;5;124;03m\"\"\"\u001B[39;00m\n\u001B[1;32m   1214\u001B[0m conn\u001B[38;5;241m.\u001B[39msend_command(\u001B[38;5;241m*\u001B[39margs)\n\u001B[0;32m-> 1215\u001B[0m \u001B[38;5;28;01mreturn\u001B[39;00m \u001B[38;5;28;43mself\u001B[39;49m\u001B[38;5;241;43m.\u001B[39;49m\u001B[43mparse_response\u001B[49m\u001B[43m(\u001B[49m\u001B[43mconn\u001B[49m\u001B[43m,\u001B[49m\u001B[43m \u001B[49m\u001B[43mcommand_name\u001B[49m\u001B[43m,\u001B[49m\u001B[43m \u001B[49m\u001B[38;5;241;43m*\u001B[39;49m\u001B[38;5;241;43m*\u001B[39;49m\u001B[43moptions\u001B[49m\u001B[43m)\u001B[49m\n",
      "File \u001B[0;32m~/ml4iot/py310/lib/python3.10/site-packages/redis/client.py:1254\u001B[0m, in \u001B[0;36mRedis.parse_response\u001B[0;34m(self, connection, command_name, **options)\u001B[0m\n\u001B[1;32m   1252\u001B[0m         response \u001B[38;5;241m=\u001B[39m connection\u001B[38;5;241m.\u001B[39mread_response(disable_decoding\u001B[38;5;241m=\u001B[39m\u001B[38;5;28;01mTrue\u001B[39;00m)\n\u001B[1;32m   1253\u001B[0m     \u001B[38;5;28;01melse\u001B[39;00m:\n\u001B[0;32m-> 1254\u001B[0m         response \u001B[38;5;241m=\u001B[39m \u001B[43mconnection\u001B[49m\u001B[38;5;241;43m.\u001B[39;49m\u001B[43mread_response\u001B[49m\u001B[43m(\u001B[49m\u001B[43m)\u001B[49m\n\u001B[1;32m   1255\u001B[0m \u001B[38;5;28;01mexcept\u001B[39;00m ResponseError:\n\u001B[1;32m   1256\u001B[0m     \u001B[38;5;28;01mif\u001B[39;00m EMPTY_RESPONSE \u001B[38;5;129;01min\u001B[39;00m options:\n",
      "File \u001B[0;32m~/ml4iot/py310/lib/python3.10/site-packages/redis/connection.py:824\u001B[0m, in \u001B[0;36mConnection.read_response\u001B[0;34m(self, disable_decoding)\u001B[0m\n\u001B[1;32m    821\u001B[0m     hosterr \u001B[38;5;241m=\u001B[39m \u001B[38;5;124m\"\u001B[39m\u001B[38;5;124mconnection\u001B[39m\u001B[38;5;124m\"\u001B[39m\n\u001B[1;32m    823\u001B[0m \u001B[38;5;28;01mtry\u001B[39;00m:\n\u001B[0;32m--> 824\u001B[0m     response \u001B[38;5;241m=\u001B[39m \u001B[38;5;28;43mself\u001B[39;49m\u001B[38;5;241;43m.\u001B[39;49m\u001B[43m_parser\u001B[49m\u001B[38;5;241;43m.\u001B[39;49m\u001B[43mread_response\u001B[49m\u001B[43m(\u001B[49m\u001B[43mdisable_decoding\u001B[49m\u001B[38;5;241;43m=\u001B[39;49m\u001B[43mdisable_decoding\u001B[49m\u001B[43m)\u001B[49m\n\u001B[1;32m    825\u001B[0m \u001B[38;5;28;01mexcept\u001B[39;00m socket\u001B[38;5;241m.\u001B[39mtimeout:\n\u001B[1;32m    826\u001B[0m     \u001B[38;5;28mself\u001B[39m\u001B[38;5;241m.\u001B[39mdisconnect()\n",
      "File \u001B[0;32m~/ml4iot/py310/lib/python3.10/site-packages/redis/connection.py:318\u001B[0m, in \u001B[0;36mPythonParser.read_response\u001B[0;34m(self, disable_decoding)\u001B[0m\n\u001B[1;32m    317\u001B[0m \u001B[38;5;28;01mdef\u001B[39;00m \u001B[38;5;21mread_response\u001B[39m(\u001B[38;5;28mself\u001B[39m, disable_decoding\u001B[38;5;241m=\u001B[39m\u001B[38;5;28;01mFalse\u001B[39;00m):\n\u001B[0;32m--> 318\u001B[0m     raw \u001B[38;5;241m=\u001B[39m \u001B[38;5;28;43mself\u001B[39;49m\u001B[38;5;241;43m.\u001B[39;49m\u001B[43m_buffer\u001B[49m\u001B[38;5;241;43m.\u001B[39;49m\u001B[43mreadline\u001B[49m\u001B[43m(\u001B[49m\u001B[43m)\u001B[49m\n\u001B[1;32m    319\u001B[0m     \u001B[38;5;28;01mif\u001B[39;00m \u001B[38;5;129;01mnot\u001B[39;00m raw:\n\u001B[1;32m    320\u001B[0m         \u001B[38;5;28;01mraise\u001B[39;00m \u001B[38;5;167;01mConnectionError\u001B[39;00m(SERVER_CLOSED_CONNECTION_ERROR)\n",
      "File \u001B[0;32m~/ml4iot/py310/lib/python3.10/site-packages/redis/connection.py:249\u001B[0m, in \u001B[0;36mSocketBuffer.readline\u001B[0;34m(self)\u001B[0m\n\u001B[1;32m    246\u001B[0m data \u001B[38;5;241m=\u001B[39m buf\u001B[38;5;241m.\u001B[39mreadline()\n\u001B[1;32m    247\u001B[0m \u001B[38;5;28;01mwhile\u001B[39;00m \u001B[38;5;129;01mnot\u001B[39;00m data\u001B[38;5;241m.\u001B[39mendswith(SYM_CRLF):\n\u001B[1;32m    248\u001B[0m     \u001B[38;5;66;03m# there's more data in the socket that we need\u001B[39;00m\n\u001B[0;32m--> 249\u001B[0m     \u001B[38;5;28;43mself\u001B[39;49m\u001B[38;5;241;43m.\u001B[39;49m\u001B[43m_read_from_socket\u001B[49m\u001B[43m(\u001B[49m\u001B[43m)\u001B[49m\n\u001B[1;32m    250\u001B[0m     buf\u001B[38;5;241m.\u001B[39mseek(\u001B[38;5;28mself\u001B[39m\u001B[38;5;241m.\u001B[39mbytes_read)\n\u001B[1;32m    251\u001B[0m     data \u001B[38;5;241m=\u001B[39m buf\u001B[38;5;241m.\u001B[39mreadline()\n",
      "File \u001B[0;32m~/ml4iot/py310/lib/python3.10/site-packages/redis/connection.py:192\u001B[0m, in \u001B[0;36mSocketBuffer._read_from_socket\u001B[0;34m(self, length, timeout, raise_on_timeout)\u001B[0m\n\u001B[1;32m    190\u001B[0m     sock\u001B[38;5;241m.\u001B[39msettimeout(timeout)\n\u001B[1;32m    191\u001B[0m \u001B[38;5;28;01mwhile\u001B[39;00m \u001B[38;5;28;01mTrue\u001B[39;00m:\n\u001B[0;32m--> 192\u001B[0m     data \u001B[38;5;241m=\u001B[39m \u001B[38;5;28;43mself\u001B[39;49m\u001B[38;5;241;43m.\u001B[39;49m\u001B[43m_sock\u001B[49m\u001B[38;5;241;43m.\u001B[39;49m\u001B[43mrecv\u001B[49m\u001B[43m(\u001B[49m\u001B[43msocket_read_size\u001B[49m\u001B[43m)\u001B[49m\n\u001B[1;32m    193\u001B[0m     \u001B[38;5;66;03m# an empty string indicates the server shutdown the socket\u001B[39;00m\n\u001B[1;32m    194\u001B[0m     \u001B[38;5;28;01mif\u001B[39;00m \u001B[38;5;28misinstance\u001B[39m(data, \u001B[38;5;28mbytes\u001B[39m) \u001B[38;5;129;01mand\u001B[39;00m \u001B[38;5;28mlen\u001B[39m(data) \u001B[38;5;241m==\u001B[39m \u001B[38;5;241m0\u001B[39m:\n",
      "\u001B[0;31mKeyboardInterrupt\u001B[0m: "
     ]
    }
   ],
   "execution_count": 6
  },
  {
   "cell_type": "code",
   "execution_count": null,
   "outputs": [],
   "source": [],
   "metadata": {
    "collapsed": false
   }
  }
 ],
 "nbformat": 4,
 "nbformat_minor": 0,
 "metadata": {
  "vscode": {
   "interpreter": {
    "hash": "b0fa6594d8f4cbf19f97940f81e996739fb7646882a419484c72d19e05852a7e"
   }
  },
  "deepnote": {},
  "kernelspec": {
   "name": "python3",
   "language": "python",
   "display_name": "Python 3.10.8 64-bit"
  },
  "language_info": {
   "name": "python",
   "version": "3.10.8"
  },
  "orig_nbformat": 2,
  "deepnote_notebook_id": "5ebe1bed2ffc4c2a8377e83e2231c737",
  "deepnote_execution_queue": []
 }
}
