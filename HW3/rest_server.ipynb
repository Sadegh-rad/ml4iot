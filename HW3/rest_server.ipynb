{
 "cells": [
  {
   "cell_type": "code",
   "execution_count": 1,
   "outputs": [],
   "source": [
    "import cherrypy\n",
    "import json\n",
    "import redis"
   ],
   "metadata": {
    "collapsed": false
   }
  },
  {
   "cell_type": "code",
   "execution_count": 2,
   "outputs": [
    {
     "name": "stdout",
     "output_type": "stream",
     "text": [
      "Redis Connected: True\n"
     ]
    }
   ],
   "source": [
    "REDIS_HOST = 'redis-19466.c293.eu-central-1-1.ec2.cloud.redislabs.com'\n",
    "REDIS_PORT = 19466\n",
    "REDIS_USERNAME = 'default'\n",
    "REDIS_PASSWORD = 'iIQjppRdJ7f3kKU4Ng5IDkgv6TvaPnrN'\n",
    "redis_client = redis.Redis(host=REDIS_HOST, port=REDIS_PORT, username=REDIS_USERNAME, password=REDIS_PASSWORD)\n",
    "is_connected = redis_client.ping()\n",
    "print('Redis Connected:', is_connected)"
   ],
   "metadata": {
    "collapsed": false
   }
  },
  {
   "cell_type": "code",
   "execution_count": 3,
   "outputs": [],
   "source": [
    "# Endpoint /devices\n",
    "class Devices(object):\n",
    "    exposed = True\n",
    "    def GET(self, *path, **query):\n",
    "        devices_list = list({key.decode().split(':')[0] for key in redis_client.keys()})\n",
    "        devices_json = json.dumps({'mac_addresses': devices_list})\n",
    "        return devices_json\n",
    "class Device(object):\n",
    "    exposed = True\n",
    "    def GET(self, *path, **query):\n",
    "        # query must contain from to\n",
    "        if len(path) != 1:\n",
    "            raise cherrypy.HTTPError(400, 'Not Found: missing MAC address.')\n",
    "        #check if present\n",
    "        mac_address_ = path[0]\n",
    "        devices_list = list({key.decode().split(':')[0] for key in redis_client.keys()})\n",
    "        if mac_address_ not in devices_list:\n",
    "            raise cherrypy.HTTPError(404, 'Not Found: invalid MAC address.')\n",
    "\n",
    "        from_ = query.get('from', None)\n",
    "        to_ = query.get('to', None)\n",
    "        if from_ is None:\n",
    "            raise cherrypy.HTTPError(400, 'Bad Request: missing start time.')\n",
    "        if to_ is None:\n",
    "            raise cherrypy.HTTPError(400, 'Bad Request: missing end time.')\n",
    "        from_int = int(from_)\n",
    "        to_int = int(to_)\n",
    "        battery_ts = redis_client.ts().range(key=mac_address_+':battery', from_time=from_int, to_time=to_int)\n",
    "        power_ts = redis_client.ts().range(key=mac_address_+':power', from_time=from_int, to_time=to_int)\n",
    "        timestamp_list = [time for time,value in battery_ts]\n",
    "        battery_list = [value for time,value in battery_ts]\n",
    "        power_list = [value for time,value in power_ts]\n",
    "        return json.dumps({\n",
    "            'mac_address': mac_address_,\n",
    "            'timestamps': timestamp_list,\n",
    "            'battery_levels': battery_list,\n",
    "            'power_plugged': power_list,\n",
    "        })\n",
    "    def DELETE(self,*path, **query):\n",
    "        if len(path) != 1:\n",
    "            raise cherrypy.HTTPError(400, 'Bad Request: missing MAC address.')\n",
    "        mac_address_ = path[0]\n",
    "        devices_list = list({key.decode().split(':')[0] for key in redis_client.keys()})\n",
    "        if mac_address_ not in devices_list:\n",
    "            raise cherrypy.HTTPError(404, 'Not Found: invalid MAC address.')\n",
    "        redis_client.delete(mac_address_+':battery')\n",
    "        redis_client.delete(mac_address_+':power')\n",
    "        print('Deleted')"
   ],
   "metadata": {
    "collapsed": false
   }
  },
  {
   "cell_type": "code",
   "execution_count": 4,
   "outputs": [
    {
     "name": "stderr",
     "output_type": "stream",
     "text": [
      "[24/Jan/2023:19:17:31] ENGINE Bus STARTING\n",
      "[24/Jan/2023:19:17:31] ENGINE Started monitor thread 'Autoreloader'.\n",
      "[24/Jan/2023:19:17:31] ENGINE Serving on http://0.0.0.0:8080\n",
      "[24/Jan/2023:19:17:31] ENGINE Bus STARTED\n",
      "[24/Jan/2023:19:28:21] ENGINE Keyboard Interrupt: shutting down bus\n",
      "[24/Jan/2023:19:28:21] ENGINE Bus STOPPING\n",
      "[24/Jan/2023:19:28:21] ENGINE HTTP Server cherrypy._cpwsgi_server.CPWSGIServer(('0.0.0.0', 8080)) shut down\n",
      "[24/Jan/2023:19:28:21] ENGINE Stopped thread 'Autoreloader'.\n",
      "[24/Jan/2023:19:28:21] ENGINE Bus STOPPED\n",
      "[24/Jan/2023:19:28:21] ENGINE Bus EXITING\n",
      "[24/Jan/2023:19:28:21] ENGINE Bus EXITED\n",
      "[24/Jan/2023:19:28:21] ENGINE Waiting for child threads to terminate...\n"
     ]
    }
   ],
   "source": [
    "conf = {\n",
    "    '/' : {'request.dispatch' : cherrypy.dispatch.MethodDispatcher() } # configuration of the path to address\n",
    "}\n",
    "cherrypy.tree.mount(Devices(), '/devices', conf) # one for each object + passing the configuration\n",
    "cherrypy.tree.mount(Device(), '/device', conf)\n",
    "cherrypy.config.update({'server.socket_host': '0.0.0.0'})\n",
    "cherrypy.config.update({'server.socketport': 8080})\n",
    "cherrypy.engine.start()\n",
    "cherrypy.engine.block()"
   ],
   "metadata": {
    "collapsed": false
   }
  }
 ],
 "metadata": {
  "kernelspec": {
   "display_name": "Python 3",
   "language": "python",
   "name": "python3"
  },
  "language_info": {
   "codemirror_mode": {
    "name": "ipython",
    "version": 2
   },
   "file_extension": ".py",
   "mimetype": "text/x-python",
   "name": "python",
   "nbconvert_exporter": "python",
   "pygments_lexer": "ipython2",
   "version": "2.7.6"
  }
 },
 "nbformat": 4,
 "nbformat_minor": 0
}
